{
 "cells": [
  {
   "cell_type": "code",
   "execution_count": 1,
   "metadata": {
    "tags": []
   },
   "outputs": [],
   "source": [
    "import mud.funs as mdf\n",
    "\n",
    "# Array handling libraries\n",
    "import numpy as np\n",
    "import pandas as pd\n",
    "import xarray as xr\n",
    "\n",
    "import datetime \n",
    "\n",
    "# Statistics libraries\n",
    "from scipy.stats import uniform, norm\n",
    "from scipy.stats import gaussian_kde as GKDE\n",
    "from scipy.integrate import odeint\n",
    "\n",
    "# Plotting libraries\n",
    "import matplotlib.pyplot as plt"
   ]
  },
  {
   "cell_type": "code",
   "execution_count": null,
   "metadata": {
    "tags": []
   },
   "outputs": [],
   "source": [
    "# Default formatting for plots\n",
    "SMALL_SIZE = 8\n",
    "MEDIUM_SIZE = 10\n",
    "BIGGER_SIZE = 12\n",
    "\n",
    "plt.rc('font', size=SMALL_SIZE)          # controls default text sizes\n",
    "plt.rc('axes', titlesize=SMALL_SIZE)     # fontsize of the axes title\n",
    "plt.rc('axes', labelsize=MEDIUM_SIZE)    # fontsize of the x and y labels\n",
    "plt.rc('xtick', labelsize=SMALL_SIZE)    # fontsize of the tick labels\n",
    "plt.rc('ytick', labelsize=SMALL_SIZE)    # fontsize of the tick labels\n",
    "plt.rc('legend', fontsize=SMALL_SIZE)    # legend fontsize\n",
    "plt.rc('figure', titlesize=BIGGER_SIZE)  # fontsize of the figure title"
   ]
  },
  {
   "cell_type": "code",
   "execution_count": null,
   "metadata": {
    "tags": []
   },
   "outputs": [],
   "source": [
    "%%javascript\n",
    "MathJax.Hub.Config({\n",
    "    TeX: { equationNumbers: { autoNumber: \"AMS\" } }\n",
    "});"
   ]
  },
  {
   "cell_type": "markdown",
   "metadata": {},
   "source": [
    "## <center> Maximal Updated Density (MUD) point estimate inverse problems \n",
    "   --- \n",
    "Carlos del-Castillo-Negrete\n",
    "    <br>\n",
    "    Oden Institute at the University of Texas at Austin\n",
    "    <br>\n",
    "    cdelcastillo21@gmail.com \n",
    "    \n",
    "   ---\n",
    "</center>\n",
    "    \n",
    "Based off work from Troy Butler and Michael Pilosov"
   ]
  },
  {
   "cell_type": "markdown",
   "metadata": {},
   "source": [
    "## Exponential Decay - Single Parameter Estimation Problem \n",
    "Consider an exponential decay system with uncertain paramater $\\lambda$, which we model with the following differential equation.\n",
    "\n",
    "\n",
    "<center>\n",
    "\\begin{equation}\n",
    "\\Large\n",
    "\\begin{cases} \\frac{\\partial u}{\\partial t} = \\lambda u(t), 0 \\lt t \\leq 3, \\\\\n",
    "                  u(0) = 0.75\n",
    "\\end{cases}\n",
    "\\end{equation}\n",
    "</center>\n",
    "\n",
    "The true solution is given by the following equation. \n",
    "    \n",
    "<center>\n",
    "\\begin{equation}\n",
    "\\Large u(t; \\lambda) = u_0 \\text{exp}(-\\lambda t), u_0 = 0.75 \n",
    "\\end{equation}\n",
    "<\\center>"
   ]
  },
  {
   "cell_type": "markdown",
   "metadata": {},
   "source": [
    "### Goal and assumptions\n",
    "Our goal is to use any initial knowledge on our parameter space, the assumed exponential decay model above, and data collected from experiments on the real world system to infer the true value $\\lambda$, which we set for this example problem to $\\lambda^{\\dagger}=0.5$. We seek a point estimate of the this true value.\n",
    "\n",
    "The main assumption we make is that our model is indeed an accurate representation of the physical system we are measuring, and the uncertainties in our experiments are aleatoric, i.e. reducible. Thus we have a noisy measurement device $M(t;\\lambda^{\\dagger})$ to record the true signal $u(t;\\lambda^{\\dagger})$ at $N$ points in time, with errors being idenpendent identically distributed Gaussain errors. The data collected can then be described by:\n",
    "\n",
    "<center>\n",
    "    \\begin{equation}\n",
    "        \\label{eq:d_i}\n",
    "        \\Large d(t_i) = M(t_i, \\lambda^{\\dagger}) + \\xi_i, \\xi_i \\sim {\\mathcal N}(0, \\sigma^2), 1 \\leq i \\leq N\n",
    "    \\end{equation}\n",
    "</center>\n",
    "\n",
    "Our goal is to use any initial knowledge on our parameter space, the assumed exponential decay model above, and data collected from our measurement device to infer the true value $\\lambda^{\\dagger}$. We will do this by building a Quantity of Interest map $Q$ from our observed data and perform data-consistent inversion to compute the updated probability density on our parameter space, given by the following equation\n",
    "\n",
    "<center>\n",
    "    \\begin{equation}\n",
    "        \\Large\n",
    "        \\pi_{up}(\\lambda) = \\pi_{in}(\\lambda)\\frac{\\pi_{ob}(Q(\\lambda))}{\\pi_{pr}(Q(\\lambda))}\n",
    "    \\end{equation}\n",
    "</center>\n",
    "\n",
    "Here $\\pi_{pr}(Q(\\lambda))$ corresponds to the push-forward of the initial distribution on our parameter space through the QoI map, while $\\pi_{ob}(Q(\\lambda))$ is the observed distribution of the QoI map for our system. From the $\\pi_{up}(\\lambda)$ we can then compute the <bf>Maximal Updated Density</bf> (MUD) point as\n",
    "\n",
    "<center>\n",
    "    \\begin{equation}\n",
    "        \\Large\n",
    "        \\lambda^{MUD} := \\text{argmax}\\pi_{up}(\\lambda)\n",
    "    \\end{equation}\n",
    "</center>\n",
    "\n",
    "Finall for our model problem, we assume our parameter range to be $\\Lambda = [0,1]$ and a uniform initial distribution, $\\pi_{in}(\\lambda)={\\mathcal U}([0,1])$."
   ]
  },
  {
   "cell_type": "code",
   "execution_count": null,
   "metadata": {
    "tags": []
   },
   "outputs": [],
   "source": [
    "def exp_decay_one(u_0=0.75, time_range=[0, 3.0], domain=[0,1 ], num_samples=10000, lambda_true=0.5, N=20, t_start=1.0, sampling_freq=100.0):\n",
    "    \n",
    "    time = np.linspace(time_range[0],time_range[1],1000)\n",
    "    times = np.arange(t_start, time_range[1], 1/sampling_freq)[0:N]\n",
    "    \n",
    "    u_t_lambda = lambda t, l: u_0*np.exp(-np.outer(l, t))    \n",
    "\n",
    "    mn = np.min(domain, axis=1)\n",
    "    mx = np.max(domain, axis=1)\n",
    "    initial = uniform(loc=mn, scale=mx - mn)\n",
    "    lambda_samples = initial.rvs(size=num_samples)\n",
    "\n",
    "    true = u_t_lambda(times, lambda_true)[0]\n",
    "    predicted = u_t_lambda(times, lambda_samples)\n",
    "\n",
    "    return times, lambda_samples, predicted, true"
   ]
  },
  {
   "cell_type": "code",
   "execution_count": null,
   "metadata": {
    "tags": []
   },
   "outputs": [],
   "source": [
    "# Scenario 1 -> Take 30 measurements at 10 Hz starting at t=0\n",
    "u_0 = 0.75                # Initial condition\n",
    "time_range = [0, 10.0]    # Time range (secs)\n",
    "domain = [[0, 1]]         # Domain of possible lambda values\n",
    "lambda_true = 0.5         # True value of lambda\n",
    "num_samples = 100         # Number of parameter samples. \n",
    "N = 30                    # Number of measurements from sample/true trajectories to take.\n",
    "t_start = 0.0             # Time at which to start taking measurements (secs)\n",
    "sampling_freq = 100.0     # Sampling frequency (Hz)\n",
    "sd = np.sqrt(1.507e-3)    # Std Deviation for adding noise to measurements  "
   ]
  },
  {
   "cell_type": "code",
   "execution_count": 67,
   "metadata": {
    "tags": []
   },
   "outputs": [
    {
     "data": {
      "text/plain": [
       "((30,), (100,), (100, 30), (30,))"
      ]
     },
     "execution_count": 67,
     "metadata": {},
     "output_type": "execute_result"
    }
   ],
   "source": [
    "ts, lam, qoi, qoi_true = exp_decay_one(u_0=u_0,\n",
    "                                       time_range=time_range,\n",
    "                                       domain=domain,\n",
    "                                       lambda_true=lambda_true,\n",
    "                                       num_samples=num_samples,\n",
    "                                       N=N,\n",
    "                                       t_start=t_start,\n",
    "                                       sampling_freq=sampling_freq)\n",
    "ts.shape, lam.shape, qoi.shape, qoi_true.shape"
   ]
  },
  {
   "cell_type": "code",
   "execution_count": 10,
   "metadata": {
    "execution": {
     "iopub.execute_input": "2022-05-31T20:48:25.630329Z",
     "iopub.status.busy": "2022-05-31T20:48:25.630216Z",
     "iopub.status.idle": "2022-05-31T20:48:25.640722Z",
     "shell.execute_reply": "2022-05-31T20:48:25.639938Z",
     "shell.execute_reply.started": "2022-05-31T20:48:25.630316Z"
    },
    "tags": []
   },
   "outputs": [
    {
     "data": {
      "text/plain": [
       "array([0.51226471])"
      ]
     },
     "execution_count": 10,
     "metadata": {},
     "output_type": "execute_result"
    }
   ],
   "source": [
    "# Build and solve mud problem\n",
    "exp_decay_mud = mdf.mud_problem(domain=domain, \n",
    "                                 lam=lam, \n",
    "                                 qoi=qoi, \n",
    "                                 sd=sd, \n",
    "                                 qoi_true=qoi_true, \n",
    "                                 num_obs=N)\n",
    "exp_decay_mud.estimate()"
   ]
  },
  {
   "cell_type": "code",
   "execution_count": 11,
   "metadata": {
    "execution": {
     "iopub.execute_input": "2022-05-31T20:48:27.712225Z",
     "iopub.status.busy": "2022-05-31T20:48:27.711818Z",
     "iopub.status.idle": "2022-05-31T20:48:27.737722Z",
     "shell.execute_reply": "2022-05-31T20:48:27.737363Z",
     "shell.execute_reply.started": "2022-05-31T20:48:27.712192Z"
    },
    "tags": []
   },
   "outputs": [
    {
     "name": "stdout",
     "output_type": "stream",
     "text": [
      "Lambda estimate = [0.9700813]\n",
      "Lambda estimate = [0.60955897]\n",
      "Lambda estimate = [0.3443892]\n"
     ]
    }
   ],
   "source": [
    "# Scenario 1 -> Split previous data into 3 iterations of 10 measurements at 10 Hz starting at t=0\n",
    "# Use weights from previous iteration to weigh next iteration.\n",
    "num_splits = 3\n",
    "ts_it = np.split(ts, num_splits)\n",
    "qoi_it = np.split(qoi, num_splits, axis=1)\n",
    "qoi_true_it = np.split(qoi_true, num_splits)\n",
    "\n",
    "weights = None\n",
    "mud_solves = []\n",
    "for i in range(num_splits):\n",
    "    mud_it = mdf.mud_problem(domain=domain, \n",
    "                            lam=lam, \n",
    "                            qoi=qoi_it[i], \n",
    "                            sd=sd, \n",
    "                            qoi_true=qoi_true_it[i], \n",
    "                            num_obs=int(N/num_splits),\n",
    "                            weights=weights)\n",
    "    res = mud_it.estimate()\n",
    "    \n",
    "    print(f\"Lambda estimate = {res}\")\n",
    "    weights = mud_it._r\n",
    "    mud_solves.append(mud_it)"
   ]
  },
  {
   "cell_type": "markdown",
   "metadata": {},
   "source": [
    "## Modelling Predator-Prey Systems in Python\n",
    "    \n",
    "We will now consider predator-prey systems. Specifically we will be looking at the __Lotka-Volterra__ model., We will evaluate both a __deterministic__, idealized model for the predator-prey systems, and a __stochastics__ into the equations - so that the model more accurately captures the noise found in real world scenarios.\n",
    "\n",
    "### The Lotka-Volterra Equations\n",
    "\n",
    "\n",
    "<center>\n",
    "\\begin{equation}\n",
    "\\Large\n",
    "\\begin{cases}\n",
    "\\dfrac{dx}{dt} = \\alpha x - \\beta x y \\qquad 0\\leq t\\leq 50\\\\\n",
    "\\dfrac{dy}{dt} = \\delta xy - \\gamma y \\\\\n",
    "x(0) = 100, \\ y(0)= 20\n",
    "\\end{cases}\n",
    "\\end{equation}\n",
    "</center>\n",
    "\n",
    "\n",
    "\n",
    "We interpret the quantities above as:\n",
    "\n",
    "* $\\dfrac{dx}{dt}$ = Growth rate of prey population,\n",
    "* $\\dfrac{dy}{dt}$ = Growth rate of predator population,\n",
    "* $x$ = Prey population ,\n",
    "* $y$ = Pedator population,\n",
    "* $\\alpha$ = Growth rate of prey,\n",
    "* $\\beta$ = Death rate of prey due to predatation from predator,\n",
    "* $\\gamma$ = Natural death rate of predators,\n",
    "* $\\delta$ = Factor describing how many consumed prey create a new predator,\n",
    "\n",
    "### Goals and Assumptions\n",
    "\n",
    "Lotka-Volterra model makes several assumptions for the dynamics of predator-prey systems. Some of which are as follows:\n",
    "\n",
    "* Prey population is provided with an unlimited food supply,\n",
    "* The rate of change of the populations are proportional to their size,\n",
    "* Predators only consume prey, and are entirely dependent on them as a food source,\n",
    "* Predators have unlimited consumption capacity,\n",
    "\n",
    "The system is evaluated via an explicit forward euler equation that evaluates the given current differentials and then evaluates the next value of the new states using the previously computed differentials.We assume our parameter ranges to be $\\beta = [0,0.5]$ and $\\Gamma = [0.5,0.7]$ with intial uniform initial distributions, \n",
    "$\\pi_{in}(\\beta)={\\mathcal U}([0,0.5])$, and $\\pi_{in}(\\gamma)={\\mathcal U}([0,0.8])$\n"
   ]
  },
  {
   "cell_type": "code",
   "execution_count": 2,
   "metadata": {},
   "outputs": [],
   "source": [
    "def lv_model(alpha, beta, gamma, delta, xinit=100, yinit=20, dt=0.001, tinit=0, tfinal=50,seasonal=False):\n",
    "    \"\"\"\n",
    "    Parameters:\n",
    "    ------------\n",
    "    :param alpha: float, birth rate of prey\n",
    "    :param beta:  float, death rate of prey due to predation\n",
    "    :param gamma: float, natural death rate of predator\n",
    "    :param delta: float, factor that describes how many eaten prey give birth to a new predator\n",
    "    :param xinit: float, i.c. for the prey (x) population at time=0\n",
    "    :param yinit: float, i.c. for the predator (y) population at time=0\n",
    "    :param dt:    float, timestep determines the accuracy of the euler method of integration\n",
    "    :param tinit: int,   initial time for simulation\n",
    "    :param tfinal: int,  stopping time for simulation\n",
    "    :param seasonal: bool, seasonal assumption to perturb beta parameter\n",
    "    \n",
    "    Returns:\n",
    "    --------\n",
    "    : time series data\n",
    "    : x and y state vectors time series data\n",
    "    \"\"\"\n",
    "    \n",
    "    t = np.arange(0,tfinal,dt) # create temporal domain vector\n",
    "    x=[xinit]; y=[yinit]       # initial conditions for populations\n",
    "\n",
    "    for n in range(1,len(t)):\n",
    "        \n",
    "        if seasonal and n == len(t)//2:\n",
    "            beta = .5; gamma =0.7\n",
    "            \n",
    "        dx = x[n-1] * (alpha - beta*y[n-1])\n",
    "        dy = -y[n-1]*(gamma - delta*x[n-1])\n",
    "\n",
    "        xnew = x[n-1] + dx * dt\n",
    "        ynew = y[n-1] + dy * dt\n",
    "\n",
    "        x.append(xnew); y.append(ynew)\n",
    "        \n",
    "    return t, np.asarray(x), np.asarray(y)\n",
    "\n",
    "\n",
    "def pp_sampler(a,b,c,d,uscale, nsamps=100):\n",
    "    \"\"\"\n",
    "    Parameters:\n",
    "    ----------\n",
    "    :param nsamps: int,  number of paramter samples to draw from uniform rv\n",
    "    :param uscale: np array, supports of parameters given as uniform rv ~ U[0,uscale]\n",
    "    \n",
    "    Returns:\n",
    "    ----------\n",
    "    :parameter samples sampled from uniform distribution\n",
    "    :time series of forward model run for each sample\n",
    "    \"\"\"\n",
    "    \n",
    "    a_samps = uniform.rvs(0,uscale[0],size=nsamps)\n",
    "    b_samps = uniform.rvs(0,uscale[1],size=nsamps)\n",
    "    g_samps = uniform.rvs(0, uscale[2],size=nsamps)\n",
    "    d_samps = uniform.rvs(0,uscale[3],size=nsamps)\n",
    "\n",
    "    xtemp=list(); ytemp = list()\n",
    "\n",
    "    for i in range(nsamps):\n",
    "\n",
    "        _, xf, yf =  lv_model(a_samps[i],b_samps[i],g_samps[i],d_samps[i])\n",
    "        xtemp.append(xf); ytemp.append(yf)\n",
    "\n",
    "    return a_samps, b_samps, g_samps, d_samps, np.asarray(xtemp), np.asarray(ytemp)\n",
    "\n",
    "\n",
    "def sub_sample(samples,sfreq=4):\n",
    "    \"\"\"\n",
    "    Parameters:\n",
    "    ------------\n",
    "    :param samples: np array, samples\n",
    "    :param sfreq:   int,  sampling fequency\n",
    "    \n",
    "    Returns:\n",
    "    --------\n",
    "    :copy of np array subsampled according to given subsample frequency\n",
    "    \"\"\"\n",
    "    if len(samples.shape)==1:\n",
    "        return samples[0::sfreq].copy()\n",
    "    return samples[:,0::sfreq].copy()\n",
    "\n",
    "\n",
    "def pp_plot(time, x_true, y_true, n_plots=2):\n",
    "    \"\"\"\n",
    "    Plot time series of parameter before perterbation\n",
    "    Plot time series of parameter after perterbation\n",
    "    \"\"\"\n",
    "    \n",
    "    half = len(t)//2\n",
    "    \n",
    "    fig, (ax1, ax2) = plt.subplots(1,n_plots,figsize=(14,8))\n",
    "\n",
    "    ax1.plot(time[:half], x_true[:half])\n",
    "    ax1.plot(time[:half], y_true[:half])\n",
    "    ax1.set_xlabel('Time',fontsize=14); ax1.set_ylabel('Population Size',fontsize=14)\n",
    "    ax1.legend(('Prey', 'Predator'))\n",
    "    # ax1.legend.get_frame().set_alpha(0.5)\n",
    "    ax1.set_title('Deterministic Lotka-Volterra Before Perterbation',fontsize=18)\n",
    "    ax1.grid(True)\n",
    "    \n",
    "    ax2.plot(time[half:], x_true[half:])\n",
    "    ax2.plot(time[half:], y_true[half:])\n",
    "    ax2.set_xlabel('Time',fontsize=14); ax2.set_ylabel('Population Size',fontsize=14)\n",
    "    ax2.legend(('Prey', 'Predator'))\n",
    "    # ax2.legend.get_frame().set_alpha(0.5)\n",
    "    ax2.set_title('Deterministic Lotka-Volterra After Perterbation',fontsize=18)\n",
    "    ax2.grid(True)\n",
    "    \n",
    "    fig.tight_layout()\n",
    "    plt.show()\n",
    "\n",
    "def mud_prob(domain, samps, qi,std, qi_true, nobs):\n",
    "    \"\"\"\n",
    "    instantiate mud object to build and solve mud problem\n",
    "    \"\"\"\n",
    "    return mdf.mud_problem(domain=domain, \n",
    "                                 lam=samps, \n",
    "                                 qoi= qi,\n",
    "                                 sd=std, \n",
    "                                 qoi_true= qi_true, \n",
    "                                 num_obs= nobs)"
   ]
  },
  {
   "cell_type": "code",
   "execution_count": 3,
   "metadata": {},
   "outputs": [],
   "source": [
    "\"\"\"\"lotka-volterra parameters\"\"\"\n",
    "\n",
    "atrue, btrue, gtrue, dtrue = 1, 0.1, 0.5, 0.02    \n",
    "season = True\n",
    "umax=np.array([2,0.5,0.8,0.1])\n",
    "\n",
    "t, xtrue, ytrue = lv_model(atrue,btrue,gtrue,dtrue,seasonal=season)\n",
    "\n",
    "asamples, bsamples, gsamples, dsamples, xsamples, ysamples = pp_sampler(atrue,btrue,gtrue,dtrue,umax)"
   ]
  },
  {
   "cell_type": "code",
   "execution_count": null,
   "metadata": {},
   "outputs": [],
   "source": [
    "\"\"\" Sub-sample data for different observation times\"\"\"\n",
    "\n",
    "xtrue_sub = sub_sample(xtrue)\n",
    "ytrue_sub = sub_sample(ytrue)\n",
    "xsamp_sub = sub_sample(xsamples)\n",
    "ysamp_sub = sub_sample(ysamples)"
   ]
  },
  {
   "cell_type": "code",
   "execution_count": 81,
   "metadata": {},
   "outputs": [
    {
     "data": {
      "image/png": "[encoded data removed]",
      "text/plain": [
       "<Figure size 1008x576 with 2 Axes>"
      ]
     },
     "metadata": {
      "needs_background": "light"
     },
     "output_type": "display_data"
    }
   ],
   "source": [
    "\"\"\" Plot True states \"\"\"\n",
    "\n",
    "pp_plot(t,xtrue,ytrue)"
   ]
  },
  {
   "cell_type": "code",
   "execution_count": 83,
   "metadata": {},
   "outputs": [
    {
     "name": "stdout",
     "output_type": "stream",
     "text": [
      "[1.07710331] [0.09328037] [0.47963839] [0.02334524]\n"
     ]
    }
   ],
   "source": [
    "\"\"\" Build and Solve Mud Problems \"\"\"\n",
    "\n",
    "std_dev =0.05; N=20\n",
    "adomain=np.array([0,2])\n",
    "bdomain=np.array([0,0.5])\n",
    "gdomain=np.array([0,0.8])\n",
    "ddomain=np.array([0,0.1])\n",
    "\n",
    "pred_prey_muda = mud_prob(adomain,asamples,xsamp_sub, std_dev, xtrue_sub,N)\n",
    "pred_prey_mudb = mud_prob(bdomain,bsamples,xsamp_sub, std_dev, xtrue_sub,N)\n",
    "pred_prey_mudg = mud_prob(gdomain,gsamples,ysamp_sub, std_dev, ytrue_sub,N)\n",
    "pred_prey_mudd = mud_prob(ddomain,dsamples,ysamp_sub, std_dev, ytrue_sub,N)\n",
    "\n",
    "print(pred_prey_muda.estimate(),pred_prey_mudb.estimate(), pred_prey_mudg.estimate(), pred_prey_mudd.estimate())"
   ]
  },
  {
   "cell_type": "code",
   "execution_count": 55,
   "metadata": {},
   "outputs": [
    {
     "name": "stdout",
     "output_type": "stream",
     "text": [
      "2D Sampled State Array:  (12500, 200) 2D True State Array:  (12500, 2)\n"
     ]
    }
   ],
   "source": [
    "\"\"\" Create 2D state vectors \"\"\"\n",
    "\n",
    "true_states = np.concatenate((xtrue_sub.reshape(-1,1),ytrue_sub.reshape(-1,1)),axis=1)\n",
    "states = np.concatenate((xsamp_sub.T,ysamp_sub.T),axis=1)\n",
    "\n",
    "print(\"2D Sampled State Array: \", states.shape, \"2D True State Array: \" ,true_states.shape)"
   ]
  },
  {
   "cell_type": "code",
   "execution_count": null,
   "metadata": {},
   "outputs": [],
   "source": []
  },
  {
   "cell_type": "code",
   "execution_count": null,
   "metadata": {
    "tags": []
   },
   "outputs": [],
   "source": [
    "N=10;std_dev =0.05\n",
    "\n",
    "domain=np.array([[0,0.5],[0.5,0.7]])\n",
    "\n",
    "pred_prey_mud2d = mud_prob(domain,bsamples,states, std_dev, true_states,N)\n",
    "pred_prey_mud2d.estimate()"
   ]
  },
  {
   "cell_type": "code",
   "execution_count": null,
   "metadata": {},
   "outputs": [],
   "source": []
  },
  {
   "cell_type": "markdown",
   "metadata": {},
   "source": []
  },
  {
   "cell_type": "code",
   "execution_count": 36,
   "metadata": {},
   "outputs": [],
   "source": [
    "def sir(ndays= 150, I0=1, R0=0, beta = 0.2, gamma =  0.1 ,N=10000,dt=0.5):\n",
    "    \"\"\"\n",
    "    Integrates the SIR equations over the time grid, t.\n",
    "\n",
    "    Parameters:\n",
    "    -------------\n",
    "    :param ndays: int, number of days to run model\n",
    "    :param I0:  int, initial number of infected individuals\n",
    "    :param R0:  int, initial number of recovered individuals\n",
    "    :param beta: float, contact rate\n",
    "    :param gamma: float, recovery rate\n",
    "    :param N:     int,   total population\n",
    "\n",
    "    Returns:\n",
    "    ---------\n",
    "    np arrays: time data, S, I, R\n",
    "    \"\"\"\n",
    "\n",
    "    \n",
    "    t = np.arange(0, ndays, dt)   # grid of time points (in days)\n",
    "    s = np.zeros(int(ndays/dt))\n",
    "    i = np.zeros(int(ndays/dt))\n",
    "    r = np.zeros(int(ndays/dt))\n",
    "    \n",
    "    s[0] = N - I0 - R0                   # initial susceptible\n",
    "    i[0] = I0\n",
    "    r[0] = R0\n",
    "    \n",
    "    for n in range(1, len(t)):\n",
    "        \n",
    "        ds = -(beta * i[n-1] * s[n-1])/N\n",
    "        di = (beta * i[n-1] * s[n-1])/N - gamma*i[n-1]\n",
    "        dr = gamma * i[n-1]\n",
    "        \n",
    "        s[n] = s[n-1] + dt*ds\n",
    "        i[n] = i[n-1] + dt*di\n",
    "        r[n] = r[n-1] + dt*dr\n",
    "\n",
    "    return t, s, i, r\n",
    "\n",
    "def sir_sampler(uscale, nsamps=100):\n",
    "    \"\"\"\n",
    "    Parameters:\n",
    "    ----------\n",
    "    :param nsamps: int,  number of paramter samples to draw from uniform rv\n",
    "    :param uscale: np array, supports of parameters given as uniform rv ~ U[0,uscale]\n",
    "    \n",
    "    Returns:\n",
    "    ----------\n",
    "    :parameter samples sampled from uniform distribution\n",
    "    :time series of forward model run for each sample\n",
    "    \"\"\"\n",
    "    \n",
    "    b_samps = uniform.rvs(0,uscale[0],size=nsamps)\n",
    "    g_samps = uniform.rvs(0,uscale[1],size=nsamps)\n",
    "\n",
    "    stemp, itemp, rtemp = list(),list(),list()\n",
    "\n",
    "    for j in range(nsamps):\n",
    "        _, S,I,R = sir(beta=b_samps[j], gamma=g_samps[j])\n",
    "        stemp.append(S); itemp.append(I), rtemp.append(R)\n",
    "\n",
    "    return b_samps, g_samps, np.asarray(stemp), np.asarray(itemp), np.asarray(rtemp)\n",
    "\n",
    "def sir_plot(time,s,i,r):\n",
    "    \"\"\"\n",
    "    Plot the data on three separate curves for S(t), I(t) and R(t)\n",
    "    \"\"\"\n",
    "    fig = plt.figure(facecolor='w',figsize=(12,8))\n",
    "    ax = fig.add_subplot(111, facecolor='#dddddd', axisbelow=True)\n",
    "    ax.plot(time, s, 'b', alpha=0.5, lw=2, label='$S(t)$ Susceptible')\n",
    "    ax.plot(time, i, 'r', alpha=0.5, lw=2, label='$I(t)$ Infected')\n",
    "    ax.plot(time, r, 'g', alpha=0.5, lw=2, label='$R(t)$ Recovered w/ immunity')\n",
    "    ax.set_xlabel('Time /days',fontsize =14)\n",
    "    ax.set_ylabel('Number (1000s)',fontsize=14)\n",
    "    # ax.set_ylim(0,1.2)\n",
    "    ax.yaxis.set_tick_params(length=0)\n",
    "    ax.xaxis.set_tick_params(length=0)\n",
    "    ax.grid(b=True, which='major', c='w', lw=2, ls='-')\n",
    "    legend = ax.legend(fontsize=10)\n",
    "    legend.get_frame().set_alpha(0.5)\n",
    "    for spine in ('top', 'right', 'bottom', 'left'):\n",
    "        ax.spines[spine].set_visible(False)\n",
    "    plt.show()\n",
    "    "
   ]
  },
  {
   "cell_type": "code",
   "execution_count": 37,
   "metadata": {},
   "outputs": [],
   "source": [
    "\"\"\"\"sir parameters\"\"\"\n",
    "\n",
    "bet_true, gam_true = 0.2, 0.1,    \n",
    "season = True\n",
    "umax=np.array([.5,.5])\n",
    "\n",
    "time,S,I,R = sir()\n",
    "\n",
    "bsamples, gsamples,  ssamples, isamples, rsamples = sir_sampler(uscale=umax)"
   ]
  },
  {
   "cell_type": "code",
   "execution_count": 38,
   "metadata": {},
   "outputs": [
    {
     "name": "stderr",
     "output_type": "stream",
     "text": [
      "/tmp/ipykernel_1538/241788185.py:81: MatplotlibDeprecationWarning: The 'b' parameter of grid() has been renamed 'visible' since Matplotlib 3.5; support for the old name will be dropped two minor releases later.\n",
      "  ax.grid(b=True, which='major', c='w', lw=2, ls='-')\n"
     ]
    },
    {
     "data": {
      "image/png": "[encoded data removed]",
      "text/plain": [
       "<Figure size 864x576 with 1 Axes>"
      ]
     },
     "metadata": {},
     "output_type": "display_data"
    }
   ],
   "source": [
    "\"\"\" Plot True states \"\"\"\n",
    "sir_plot(time,S,I,R)"
   ]
  },
  {
   "cell_type": "code",
   "execution_count": 39,
   "metadata": {},
   "outputs": [],
   "source": [
    "\"\"\" Sub-sample data for different observation times\"\"\"\n",
    "\n",
    "strue_sub = sub_sample(S)\n",
    "ssamp_sub = sub_sample(ssamples)\n",
    "\n",
    "itrue_sub = sub_sample(I)\n",
    "isamp_sub = sub_sample(isamples)\n",
    "\n",
    "rtrue_sub = sub_sample(R)\n",
    "rsamp_sub = sub_sample(rsamples)"
   ]
  },
  {
   "cell_type": "code",
   "execution_count": 40,
   "metadata": {},
   "outputs": [
    {
     "name": "stdout",
     "output_type": "stream",
     "text": [
      "[1.78010387] [0.35869642] [0.47018978]\n"
     ]
    }
   ],
   "source": [
    "\"\"\" Build and Solve Mud Problems \"\"\"\n",
    "\n",
    "std_dev =0.05; N=20\n",
    "betdomain=np.array([0,0.5])\n",
    "gamdomain=np.array([0,0.5])\n",
    "\n",
    "s_mud = mud_prob(betdomain,asamples,ssamp_sub, std_dev, strue_sub,N)\n",
    "i_mud = mud_prob(gamdomain,bsamples,isamp_sub, std_dev, itrue_sub,N)\n",
    "r_mud = mud_prob(gamdomain,bsamples,rsamp_sub, std_dev, rtrue_sub,N)\n",
    "\n",
    "print(s_mud.estimate(),i_mud.estimate(), r_mud.estimate())"
   ]
  },
  {
   "cell_type": "code",
   "execution_count": null,
   "metadata": {},
   "outputs": [],
   "source": []
  }
 ],
 "metadata": {
  "IMAGE_NAME": "taccsciapps/ds-nb-img:base-0.1.0",
  "UUID": "ba87e132-ee7c-11ec-b09d-063fae3b2937",
  "citation-manager": {
   "items": {}
  },
  "kernelspec": {
   "display_name": "Python [conda env:dc_inv]",
   "language": "python",
   "name": "conda-env-dc_inv-py"
  },
  "language_info": {
   "codemirror_mode": {
    "name": "ipython",
    "version": 3
   },
   "file_extension": ".py",
   "mimetype": "text/x-python",
   "name": "python",
   "nbconvert_exporter": "python",
   "pygments_lexer": "ipython3",
   "version": "3.10.5"
  }
 },
 "nbformat": 4,
 "nbformat_minor": 4
}
